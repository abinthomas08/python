{
 "cells": [
  {
   "cell_type": "code",
   "execution_count": 1,
   "id": "f7081e1d-e385-4ae1-a773-a2ef9d414c5a",
   "metadata": {},
   "outputs": [],
   "source": [
    "#empty list \n",
    "#we represent list with square bracket\n",
    "\n",
    "mylist=[]"
   ]
  },
  {
   "cell_type": "code",
   "execution_count": 3,
   "id": "d705550f-7b10-494c-965a-624ebdffc3f7",
   "metadata": {
    "tags": []
   },
   "outputs": [],
   "source": [
    "#list of integers \n",
    "mylist=[1,2,3,4,5]"
   ]
  },
  {
   "cell_type": "code",
   "execution_count": 4,
   "id": "ea58af37-ee3d-441c-b7b5-c23c13bc0cff",
   "metadata": {},
   "outputs": [
    {
     "data": {
      "text/plain": [
       "[1, 2, 3, 4, 5]"
      ]
     },
     "execution_count": 4,
     "metadata": {},
     "output_type": "execute_result"
    }
   ],
   "source": [
    "mylist"
   ]
  },
  {
   "cell_type": "code",
   "execution_count": 5,
   "id": "823d3106-a33e-4fd2-8565-18e3d05be875",
   "metadata": {},
   "outputs": [],
   "source": [
    "#list with different data types\n",
    "mylist=[1,\"hello\",2.5]"
   ]
  },
  {
   "cell_type": "code",
   "execution_count": 7,
   "id": "9963a9e2-4db4-49bc-bd58-31184b797295",
   "metadata": {},
   "outputs": [
    {
     "data": {
      "text/plain": [
       "[1, 'hello', 2.5]"
      ]
     },
     "execution_count": 7,
     "metadata": {},
     "output_type": "execute_result"
    }
   ],
   "source": [
    "mylist"
   ]
  },
  {
   "cell_type": "code",
   "execution_count": 9,
   "id": "71c5a6ea-465f-40c3-8aca-b6412a20a639",
   "metadata": {},
   "outputs": [],
   "source": [
    "number=\"10\""
   ]
  },
  {
   "cell_type": "code",
   "execution_count": 10,
   "id": "97ae19fb-6ebb-4e52-8596-5a3115d8618d",
   "metadata": {},
   "outputs": [
    {
     "data": {
      "text/plain": [
       "str"
      ]
     },
     "execution_count": 10,
     "metadata": {},
     "output_type": "execute_result"
    }
   ],
   "source": [
    "type(number)"
   ]
  },
  {
   "cell_type": "code",
   "execution_count": 11,
   "id": "10d2ae68-8736-49fa-83e3-cac75a14f49e",
   "metadata": {},
   "outputs": [
    {
     "data": {
      "text/plain": [
       "10"
      ]
     },
     "execution_count": 11,
     "metadata": {},
     "output_type": "execute_result"
    }
   ],
   "source": [
    "int(number)"
   ]
  },
  {
   "cell_type": "code",
   "execution_count": 12,
   "id": "c17b68d1-ccdc-4377-b781-10aaae8670ca",
   "metadata": {},
   "outputs": [
    {
     "data": {
      "text/plain": [
       "[]"
      ]
     },
     "execution_count": 12,
     "metadata": {},
     "output_type": "execute_result"
    }
   ],
   "source": [
    "#iterable\n",
    "list()"
   ]
  },
  {
   "cell_type": "code",
   "execution_count": 13,
   "id": "3e605c3a-a523-46f2-91dc-abf91b138d16",
   "metadata": {},
   "outputs": [
    {
     "data": {
      "text/plain": [
       "['A', 'b', 'i', 'n']"
      ]
     },
     "execution_count": 13,
     "metadata": {},
     "output_type": "execute_result"
    }
   ],
   "source": [
    "list(\"Abin\")"
   ]
  },
  {
   "cell_type": "code",
   "execution_count": 14,
   "id": "5a5a6c83-85ec-4c35-92af-f9a53fca5836",
   "metadata": {},
   "outputs": [
    {
     "data": {
      "text/plain": [
       "[10, 20, 30]"
      ]
     },
     "execution_count": 14,
     "metadata": {},
     "output_type": "execute_result"
    }
   ],
   "source": [
    "list((10,20,30))"
   ]
  },
  {
   "cell_type": "code",
   "execution_count": 15,
   "id": "5f4fd74a-5e0f-4006-9275-f3281fbf943d",
   "metadata": {},
   "outputs": [
    {
     "data": {
      "text/plain": [
       "[19, 20, 40]"
      ]
     },
     "execution_count": 15,
     "metadata": {},
     "output_type": "execute_result"
    }
   ],
   "source": [
    "list([19,20,40])"
   ]
  },
  {
   "cell_type": "code",
   "execution_count": 16,
   "id": "2b1f5074-519f-4b8a-a375-ca4300c32062",
   "metadata": {},
   "outputs": [],
   "source": [
    "mylist=[1,2,34,5,45,5,6,7]"
   ]
  },
  {
   "cell_type": "code",
   "execution_count": 18,
   "id": "1d8f46fb-51ad-42c8-a5c7-f32f7dec589c",
   "metadata": {
    "tags": []
   },
   "outputs": [
    {
     "data": {
      "text/plain": [
       "45"
      ]
     },
     "execution_count": 18,
     "metadata": {},
     "output_type": "execute_result"
    }
   ],
   "source": [
    "#access the element of the list \n",
    "mylist[4]\n"
   ]
  },
  {
   "cell_type": "code",
   "execution_count": 19,
   "id": "096e290e-5dce-4ce1-8be0-95cd0452ddf4",
   "metadata": {},
   "outputs": [
    {
     "data": {
      "text/plain": [
       "[34, 5, 45]"
      ]
     },
     "execution_count": 19,
     "metadata": {},
     "output_type": "execute_result"
    }
   ],
   "source": [
    "mylist[2:5]"
   ]
  },
  {
   "cell_type": "code",
   "execution_count": 20,
   "id": "9fd7bf49-a293-4b14-87f5-ecbde65004ee",
   "metadata": {},
   "outputs": [
    {
     "data": {
      "text/plain": [
       "5"
      ]
     },
     "execution_count": 20,
     "metadata": {},
     "output_type": "execute_result"
    }
   ],
   "source": [
    "mylist[-3]"
   ]
  },
  {
   "cell_type": "code",
   "execution_count": 22,
   "id": "5822d717-4739-48e8-b260-943721a334e2",
   "metadata": {},
   "outputs": [],
   "source": [
    "mynum=[10,20,30,40,50]"
   ]
  },
  {
   "cell_type": "code",
   "execution_count": 24,
   "id": "68cbf4c0-c9bd-4737-89ae-a1be63aa5ef5",
   "metadata": {},
   "outputs": [
    {
     "data": {
      "text/plain": [
       "[20, 30, 40]"
      ]
     },
     "execution_count": 24,
     "metadata": {},
     "output_type": "execute_result"
    }
   ],
   "source": [
    "mynum[1:4]"
   ]
  },
  {
   "cell_type": "code",
   "execution_count": 25,
   "id": "762a39cf-71a5-4dc1-9488-77eba2cb94da",
   "metadata": {},
   "outputs": [
    {
     "data": {
      "text/plain": [
       "[40, 50]"
      ]
     },
     "execution_count": 25,
     "metadata": {},
     "output_type": "execute_result"
    }
   ],
   "source": [
    "mynum[3:5]"
   ]
  },
  {
   "cell_type": "code",
   "execution_count": 26,
   "id": "e2d8cdda-3b6d-475d-8ccb-f7e3d1c1d988",
   "metadata": {},
   "outputs": [
    {
     "data": {
      "text/plain": [
       "[30]"
      ]
     },
     "execution_count": 26,
     "metadata": {},
     "output_type": "execute_result"
    }
   ],
   "source": [
    "mynum[2:3]"
   ]
  },
  {
   "cell_type": "code",
   "execution_count": 27,
   "id": "1f253021-d599-4265-9b88-36c88a7da7a1",
   "metadata": {},
   "outputs": [
    {
     "data": {
      "text/plain": [
       "[20, 30, 40, 50]"
      ]
     },
     "execution_count": 27,
     "metadata": {},
     "output_type": "execute_result"
    }
   ],
   "source": [
    "mynum[1:]"
   ]
  },
  {
   "cell_type": "code",
   "execution_count": 28,
   "id": "eb913b08-b3c8-435d-aa5f-c33f1e5fde7e",
   "metadata": {},
   "outputs": [
    {
     "data": {
      "text/plain": [
       "[10, 20, 30]"
      ]
     },
     "execution_count": 28,
     "metadata": {},
     "output_type": "execute_result"
    }
   ],
   "source": [
    "mynum[:-2]"
   ]
  },
  {
   "cell_type": "code",
   "execution_count": 29,
   "id": "f57439f4-caec-49da-8d74-985504e7d187",
   "metadata": {},
   "outputs": [],
   "source": [
    "#modify the existing element \n",
    "sports=[\"cricket\",\"hockey\",\"football\"]"
   ]
  },
  {
   "cell_type": "code",
   "execution_count": 31,
   "id": "799384cb-08a0-4f43-b8ba-70bfdbaaaf9c",
   "metadata": {},
   "outputs": [],
   "source": [
    "sports[1]=\"badminton\""
   ]
  },
  {
   "cell_type": "code",
   "execution_count": 32,
   "id": "9254288d-490c-44ad-903f-077ef2a02a82",
   "metadata": {},
   "outputs": [
    {
     "data": {
      "text/plain": [
       "['cricket', 'badminton', 'football']"
      ]
     },
     "execution_count": 32,
     "metadata": {},
     "output_type": "execute_result"
    }
   ],
   "source": [
    "sports"
   ]
  },
  {
   "cell_type": "code",
   "execution_count": 36,
   "id": "245a9064-b7a2-4f7a-b053-871daddd109f",
   "metadata": {},
   "outputs": [],
   "source": [
    "#slicing operator for multiple value\n",
    "sports[1:3]=[\"basketball\",\"tennis\"]"
   ]
  },
  {
   "cell_type": "code",
   "execution_count": 35,
   "id": "e14c1a8e-65ab-40dc-9cc8-5e8f73e209ba",
   "metadata": {},
   "outputs": [
    {
     "data": {
      "text/plain": [
       "['cricket', 'basketball', 'tennis']"
      ]
     },
     "execution_count": 35,
     "metadata": {},
     "output_type": "execute_result"
    }
   ],
   "source": [
    "sports"
   ]
  },
  {
   "cell_type": "code",
   "execution_count": 37,
   "id": "5f67530a-e2a5-427c-a163-c6bab7039360",
   "metadata": {},
   "outputs": [
    {
     "data": {
      "text/plain": [
       "'abin thomas'"
      ]
     },
     "execution_count": 37,
     "metadata": {},
     "output_type": "execute_result"
    }
   ],
   "source": [
    "\"abin\"+\" \"+\"thomas\""
   ]
  },
  {
   "cell_type": "code",
   "execution_count": 38,
   "id": "51a34164-8f88-43b3-9a11-eea714f1e78e",
   "metadata": {},
   "outputs": [],
   "source": [
    "outdoorgames=[\"cricket\",\"basketball\",\"tennis\"]"
   ]
  },
  {
   "cell_type": "code",
   "execution_count": 39,
   "id": "3946bad8-7fb3-4910-9dfb-54e294201f4d",
   "metadata": {},
   "outputs": [],
   "source": [
    "indoorgames=[\"carrom\",\"ludo\",\"chess\"]"
   ]
  },
  {
   "cell_type": "code",
   "execution_count": 40,
   "id": "d556b63e-b871-4bf1-9023-8203080473ce",
   "metadata": {},
   "outputs": [],
   "source": [
    "all_sports=outdoorgames+indoorgames"
   ]
  },
  {
   "cell_type": "code",
   "execution_count": 41,
   "id": "e5995f96-63d2-4898-b17a-ca09fb544af5",
   "metadata": {},
   "outputs": [
    {
     "data": {
      "text/plain": [
       "['cricket', 'basketball', 'tennis', 'carrom', 'ludo', 'chess']"
      ]
     },
     "execution_count": 41,
     "metadata": {},
     "output_type": "execute_result"
    }
   ],
   "source": [
    "all_sports"
   ]
  },
  {
   "cell_type": "code",
   "execution_count": null,
   "id": "36a19e5a-77a1-4e0b-9ef9-83cabc9d4dbf",
   "metadata": {},
   "outputs": [],
   "source": []
  },
  {
   "cell_type": "markdown",
   "id": "cfb8cbbe-d08d-42bf-8389-d40d892f47a0",
   "metadata": {},
   "source": [
    "Membership operator \n",
    "\n",
    "in and not in "
   ]
  },
  {
   "cell_type": "code",
   "execution_count": 42,
   "id": "4e97161f-c003-4146-b4be-2b7d58953572",
   "metadata": {},
   "outputs": [
    {
     "data": {
      "text/plain": [
       "True"
      ]
     },
     "execution_count": 42,
     "metadata": {},
     "output_type": "execute_result"
    }
   ],
   "source": [
    "\"cricket\" in all_sports"
   ]
  },
  {
   "cell_type": "code",
   "execution_count": 43,
   "id": "b04e2981-2988-4d5f-bf72-8b2c809dd70d",
   "metadata": {},
   "outputs": [
    {
     "data": {
      "text/plain": [
       "False"
      ]
     },
     "execution_count": 43,
     "metadata": {},
     "output_type": "execute_result"
    }
   ],
   "source": [
    "\"cricket\" not in all_sports"
   ]
  },
  {
   "cell_type": "code",
   "execution_count": 47,
   "id": "febc4987-6032-4a3a-a878-6705587ac462",
   "metadata": {},
   "outputs": [],
   "source": [
    "#List function\n",
    "\n",
    "#1. len()\n",
    "#2. max()\n",
    "#3. min()\n",
    "#3. sum()\n",
    "#4. sorted()\n",
    "#5. any()\n",
    "#6. all()\n",
    "#7. list()\n"
   ]
  },
  {
   "cell_type": "code",
   "execution_count": 48,
   "id": "55527d48-fcfa-41e4-af77-07ab8fce6ca9",
   "metadata": {},
   "outputs": [
    {
     "data": {
      "text/plain": [
       "50"
      ]
     },
     "execution_count": 48,
     "metadata": {},
     "output_type": "execute_result"
    }
   ],
   "source": [
    "max(mynum)"
   ]
  },
  {
   "cell_type": "code",
   "execution_count": 49,
   "id": "d95fd923-620e-4e04-9d5f-7661a1473dab",
   "metadata": {},
   "outputs": [
    {
     "data": {
      "text/plain": [
       "150"
      ]
     },
     "execution_count": 49,
     "metadata": {},
     "output_type": "execute_result"
    }
   ],
   "source": [
    "sum(mynum)"
   ]
  },
  {
   "cell_type": "code",
   "execution_count": 50,
   "id": "d02981dd-9121-4fa8-a095-442c1ec528e1",
   "metadata": {},
   "outputs": [
    {
     "data": {
      "text/plain": [
       "[10, 20, 30, 40, 50]"
      ]
     },
     "execution_count": 50,
     "metadata": {},
     "output_type": "execute_result"
    }
   ],
   "source": [
    "sorted(mynum)"
   ]
  },
  {
   "cell_type": "code",
   "execution_count": 52,
   "id": "246d5556-1a54-4193-a25e-5e413c9360e8",
   "metadata": {},
   "outputs": [
    {
     "data": {
      "text/plain": [
       "[50, 40, 30, 20, 10]"
      ]
     },
     "execution_count": 52,
     "metadata": {},
     "output_type": "execute_result"
    }
   ],
   "source": [
    "sorted(mynum,reverse=True)"
   ]
  },
  {
   "cell_type": "code",
   "execution_count": 53,
   "id": "419fad3d-c0fb-4b3c-b140-7e0674b111b6",
   "metadata": {},
   "outputs": [],
   "source": [
    "# if all the elmetn is true in the list it will give me true else false"
   ]
  },
  {
   "cell_type": "code",
   "execution_count": 54,
   "id": "e767ad69-ac73-490b-8206-0ed4791f39d1",
   "metadata": {},
   "outputs": [
    {
     "data": {
      "text/plain": [
       "True"
      ]
     },
     "execution_count": 54,
     "metadata": {},
     "output_type": "execute_result"
    }
   ],
   "source": [
    "all(mynum)"
   ]
  },
  {
   "cell_type": "code",
   "execution_count": 55,
   "id": "d5f62e41-932f-491e-85b7-25a0422f9bf1",
   "metadata": {},
   "outputs": [
    {
     "data": {
      "text/plain": [
       "True"
      ]
     },
     "execution_count": 55,
     "metadata": {},
     "output_type": "execute_result"
    }
   ],
   "source": [
    "any(mynum)"
   ]
  },
  {
   "cell_type": "code",
   "execution_count": 56,
   "id": "426ace54-9fc0-4f04-aea7-7c778e1e28b4",
   "metadata": {},
   "outputs": [],
   "source": [
    "primes=[2,3,5,7,11]"
   ]
  },
  {
   "cell_type": "markdown",
   "id": "60f3f315-b3cb-41e5-a32a-6cd39341da11",
   "metadata": {
    "tags": []
   },
   "source": [
    "next prime number will be 13"
   ]
  },
  {
   "cell_type": "code",
   "execution_count": 57,
   "id": "3a565082-ab8a-4f6c-8ca7-9eee53f75099",
   "metadata": {},
   "outputs": [],
   "source": [
    "primes.append(13)"
   ]
  },
  {
   "cell_type": "code",
   "execution_count": 59,
   "id": "534f16b0-b0d9-48dc-abfe-d4be8ad002e2",
   "metadata": {},
   "outputs": [
    {
     "data": {
      "text/plain": [
       "[2, 3, 5, 7, 11, 13]"
      ]
     },
     "execution_count": 59,
     "metadata": {},
     "output_type": "execute_result"
    }
   ],
   "source": [
    "primes"
   ]
  },
  {
   "cell_type": "code",
   "execution_count": 62,
   "id": "0afd481a-7d20-462b-8cd1-bc871d6c0074",
   "metadata": {},
   "outputs": [],
   "source": [
    "animal=[\"dog\",\"cat\",\"rabbit\"]"
   ]
  },
  {
   "cell_type": "code",
   "execution_count": 63,
   "id": "a4b11af1-22e6-4e05-994d-0bcfa5bfd930",
   "metadata": {},
   "outputs": [],
   "source": [
    "animal.append(\"tiger\")\n"
   ]
  },
  {
   "cell_type": "code",
   "execution_count": 64,
   "id": "6ecd3a5e-de9a-450c-aace-d12ce64bd25a",
   "metadata": {},
   "outputs": [
    {
     "data": {
      "text/plain": [
       "['dog', 'cat', 'rabbit', 'tiger']"
      ]
     },
     "execution_count": 64,
     "metadata": {},
     "output_type": "execute_result"
    }
   ],
   "source": [
    "animal"
   ]
  },
  {
   "cell_type": "code",
   "execution_count": 65,
   "id": "7773ffa1-0417-45a9-be61-82edb1ebf023",
   "metadata": {},
   "outputs": [],
   "source": [
    "wild_animal=[\"lion\",\"fox\"]"
   ]
  },
  {
   "cell_type": "code",
   "execution_count": 66,
   "id": "80f9dbbc-63ed-41ab-9be7-967d2de6547f",
   "metadata": {},
   "outputs": [],
   "source": [
    "animal.append(wild_animal)"
   ]
  },
  {
   "cell_type": "code",
   "execution_count": 67,
   "id": "4b76c66c-be50-4edd-b858-92000c35fc71",
   "metadata": {},
   "outputs": [
    {
     "data": {
      "text/plain": [
       "['dog', 'cat', 'rabbit', 'tiger', ['lion', 'fox']]"
      ]
     },
     "execution_count": 67,
     "metadata": {},
     "output_type": "execute_result"
    }
   ],
   "source": [
    "animal"
   ]
  },
  {
   "cell_type": "code",
   "execution_count": 68,
   "id": "6aff0e7b-06d7-4ab4-b11d-902dacf4ae1c",
   "metadata": {},
   "outputs": [
    {
     "data": {
      "text/plain": [
       "['dog', 'cat', 'rabbit', 'tiger', ['lion', 'fox']]"
      ]
     },
     "execution_count": 68,
     "metadata": {},
     "output_type": "execute_result"
    }
   ],
   "source": [
    "animal"
   ]
  },
  {
   "cell_type": "code",
   "execution_count": 70,
   "id": "48ac150c-f2cc-4c81-ab5f-b3927e6df7be",
   "metadata": {},
   "outputs": [],
   "source": [
    "animal.extend(wild_animal)"
   ]
  },
  {
   "cell_type": "code",
   "execution_count": 71,
   "id": "0f3b231c-7f71-419c-ad79-a79641aa6386",
   "metadata": {},
   "outputs": [
    {
     "data": {
      "text/plain": [
       "['dog', 'cat', 'rabbit', 'tiger', ['lion', 'fox'], 'lion', 'fox']"
      ]
     },
     "execution_count": 71,
     "metadata": {},
     "output_type": "execute_result"
    }
   ],
   "source": [
    "animal"
   ]
  },
  {
   "cell_type": "markdown",
   "id": "3699f9d4-0664-4020-ba5c-6b70dfe5373c",
   "metadata": {},
   "source": [
    "extends means if yo are giving list of values inside the list going to be concatinated "
   ]
  },
  {
   "cell_type": "code",
   "execution_count": null,
   "id": "7f1ac1ee-d27d-4512-b8a7-1682b355558c",
   "metadata": {},
   "outputs": [],
   "source": []
  },
  {
   "cell_type": "code",
   "execution_count": null,
   "id": "f281d595-1db9-44b8-b02d-e80d2675ab07",
   "metadata": {},
   "outputs": [],
   "source": []
  },
  {
   "cell_type": "code",
   "execution_count": 73,
   "id": "c80ebc20-be8b-4521-94aa-9d605807a1a8",
   "metadata": {},
   "outputs": [
    {
     "data": {
      "text/plain": [
       "['dog', 'cat', 'rabbit', 'tiger', ['lion', 'fox'], 'lion', 'fox']"
      ]
     },
     "execution_count": 73,
     "metadata": {},
     "output_type": "execute_result"
    }
   ],
   "source": [
    "animal"
   ]
  },
  {
   "cell_type": "code",
   "execution_count": 74,
   "id": "21b214de-6692-4393-8449-d462fdd54718",
   "metadata": {},
   "outputs": [],
   "source": [
    "animal=[\"dog\",\"cat\",\"rabbit\",\"tiger\",[\"lion\",\"fox\"]]"
   ]
  },
  {
   "cell_type": "code",
   "execution_count": 75,
   "id": "47d4df88-3f99-4fc8-a147-334397b3deb7",
   "metadata": {},
   "outputs": [
    {
     "data": {
      "text/plain": [
       "['dog', 'cat', 'rabbit', 'tiger', ['lion', 'fox']]"
      ]
     },
     "execution_count": 75,
     "metadata": {},
     "output_type": "execute_result"
    }
   ],
   "source": []
  },
  {
   "cell_type": "code",
   "execution_count": 76,
   "id": "7f449969-3d97-4033-9632-1349fc0359de",
   "metadata": {},
   "outputs": [],
   "source": [
    "animal=['dog', 'cat', 'rabbit', 'tiger', ['lion', 'fox'], 'lion', 'fox']"
   ]
  },
  {
   "cell_type": "code",
   "execution_count": 77,
   "id": "a6f2dcc6-f9b8-468c-b37f-008d93a17361",
   "metadata": {},
   "outputs": [
    {
     "data": {
      "text/plain": [
       "['dog', 'cat', 'rabbit', 'tiger', ['lion', 'fox'], 'lion', 'fox']"
      ]
     },
     "execution_count": 77,
     "metadata": {},
     "output_type": "execute_result"
    }
   ],
   "source": [
    "animal"
   ]
  },
  {
   "cell_type": "code",
   "execution_count": 80,
   "id": "477be6ba-b8bb-47aa-baf5-5e6f6997a73f",
   "metadata": {},
   "outputs": [
    {
     "data": {
      "text/plain": [
       "'l'"
      ]
     },
     "execution_count": 80,
     "metadata": {},
     "output_type": "execute_result"
    }
   ],
   "source": [
    "animal[5][0]"
   ]
  },
  {
   "cell_type": "code",
   "execution_count": 82,
   "id": "b30e0e41-e9ac-436d-9736-853717f626df",
   "metadata": {},
   "outputs": [],
   "source": [
    "mynums=[1,2,45,64, 643,80345,25323542]"
   ]
  },
  {
   "cell_type": "code",
   "execution_count": 85,
   "id": "6c2acb02-e0d0-4c8c-a14b-14781d83dc52",
   "metadata": {},
   "outputs": [],
   "source": [
    "mynums.extend(\"2000\")"
   ]
  },
  {
   "cell_type": "code",
   "execution_count": 86,
   "id": "dff4c524-91de-4a5d-a39e-38aa592c70ae",
   "metadata": {},
   "outputs": [
    {
     "data": {
      "text/plain": [
       "[1, 2, 45, 64, 643, 80345, 25323542, '2', '0', '0', '0']"
      ]
     },
     "execution_count": 86,
     "metadata": {},
     "output_type": "execute_result"
    }
   ],
   "source": [
    "mynums"
   ]
  },
  {
   "cell_type": "code",
   "execution_count": 87,
   "id": "4866c7d5-70c8-4309-a93e-d6610de57aba",
   "metadata": {},
   "outputs": [],
   "source": [
    "mynums.extend([2000])"
   ]
  },
  {
   "cell_type": "code",
   "execution_count": 88,
   "id": "c9b233ef-689c-45c5-8474-bbb4b0b5642f",
   "metadata": {},
   "outputs": [
    {
     "data": {
      "text/plain": [
       "[1, 2, 45, 64, 643, 80345, 25323542, '2', '0', '0', '0', 2000]"
      ]
     },
     "execution_count": 88,
     "metadata": {},
     "output_type": "execute_result"
    }
   ],
   "source": [
    "mynums"
   ]
  },
  {
   "cell_type": "markdown",
   "id": "81399198-84e7-4979-89e6-d1dda3acc90c",
   "metadata": {},
   "source": [
    "insert(index,value)"
   ]
  }
 ],
 "metadata": {
  "kernelspec": {
   "display_name": "Python 3 (ipykernel)",
   "language": "python",
   "name": "python3"
  },
  "language_info": {
   "codemirror_mode": {
    "name": "ipython",
    "version": 3
   },
   "file_extension": ".py",
   "mimetype": "text/x-python",
   "name": "python",
   "nbconvert_exporter": "python",
   "pygments_lexer": "ipython3",
   "version": "3.10.6"
  }
 },
 "nbformat": 4,
 "nbformat_minor": 5
}
